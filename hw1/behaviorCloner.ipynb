{
 "cells": [
  {
   "cell_type": "code",
   "execution_count": 1,
   "metadata": {},
   "outputs": [
    {
     "name": "stderr",
     "output_type": "stream",
     "text": [
      "Using TensorFlow backend.\n",
      "WARNING:root:Keras dependencies loaded\n"
     ]
    }
   ],
   "source": [
    "## extra imports to set GPU options\n",
    "import tensorflow as tf\n",
    "from keras import backend as k\n",
    " \n",
    "###################################\n",
    "# TensorFlow wizardry\n",
    "config = tf.ConfigProto()\n",
    " \n",
    "# Don't pre-allocate memory; allocate as-needed\n",
    "config.gpu_options.allow_growth = True\n",
    " \n",
    "# Only allow a total of half the GPU memory to be allocated\n",
    "config.gpu_options.per_process_gpu_memory_fraction = 0.5\n",
    " \n",
    "# Create a session with the above options specified.\n",
    "k.tensorflow_backend.set_session(tf.Session(config=config))\n",
    "###################################\n",
    "\n",
    "from includes import *\n",
    "\n",
    "from sklearn.model_selection import train_test_split"
   ]
  },
  {
   "cell_type": "code",
   "execution_count": 2,
   "metadata": {},
   "outputs": [],
   "source": [
    "dataDir = \"expert_data/\"\n",
    "file = \"expert_data/Hopper-v2.pkl\"\n",
    "dataUtils = DataUtils.DataUtils( dataDir )"
   ]
  },
  {
   "cell_type": "code",
   "execution_count": 3,
   "metadata": {},
   "outputs": [
    {
     "data": {
      "text/plain": [
       "['expert_data/']"
      ]
     },
     "execution_count": 3,
     "metadata": {},
     "output_type": "execute_result"
    }
   ],
   "source": [
    "dataUtils.files"
   ]
  },
  {
   "cell_type": "code",
   "execution_count": 4,
   "metadata": {},
   "outputs": [
    {
     "data": {
      "text/plain": [
       "\"TODO\\n\\n1. 3 tasks. Don't use sigmoid or relu. Just take One dense layer for each output. This value will be a linear function of the last hidden layer\\n2. 3 multi task regression with keras (without activation, it becomes a regression task.)\\n3. introduce k-fold\\n4. \\n\\n\""
      ]
     },
     "execution_count": 4,
     "metadata": {},
     "output_type": "execute_result"
    }
   ],
   "source": [
    "'''TODO\n",
    "\n",
    "1. 3 tasks. Don't use sigmoid or relu. Just take One dense layer for each output. This value will be a linear function of the last hidden layer\n",
    "2. 3 multi task regression with keras (without activation, it becomes a regression task.)\n",
    "3. introduce k-fold\n",
    "4. \n",
    "\n",
    "'''"
   ]
  },
  {
   "cell_type": "code",
   "execution_count": 5,
   "metadata": {},
   "outputs": [],
   "source": [
    "observations,actions = dataUtils.processMujocoExpertData(file=file)\n",
    "trainX,testX, trainY, testY = train_test_split( observations, actions, test_size = 0.33, random_state = 39 )"
   ]
  },
  {
   "cell_type": "code",
   "execution_count": 6,
   "metadata": {},
   "outputs": [],
   "source": [
    "l1= trainY[:,:,0]"
   ]
  },
  {
   "cell_type": "code",
   "execution_count": 7,
   "metadata": {},
   "outputs": [
    {
     "data": {
      "text/plain": [
       "(13400, 1)"
      ]
     },
     "execution_count": 7,
     "metadata": {},
     "output_type": "execute_result"
    }
   ],
   "source": [
    "l1.shape"
   ]
  },
  {
   "cell_type": "code",
   "execution_count": 8,
   "metadata": {},
   "outputs": [],
   "source": [
    "l2 = trainY[:,:,1]\n",
    "l3 = trainY[:,:,2]"
   ]
  },
  {
   "cell_type": "code",
   "execution_count": 9,
   "metadata": {},
   "outputs": [],
   "source": [
    "modelHolder = Model1.Model1()"
   ]
  },
  {
   "cell_type": "code",
   "execution_count": 10,
   "metadata": {},
   "outputs": [
    {
     "name": "stdout",
     "output_type": "stream",
     "text": [
      "__________________________________________________________________________________________________\n",
      "Layer (type)                    Output Shape         Param #     Connected to                     \n",
      "==================================================================================================\n",
      "input_1 (InputLayer)            (None, 11)           0                                            \n",
      "__________________________________________________________________________________________________\n",
      "dense_1 (Dense)                 (None, 32)           384         input_1[0][0]                    \n",
      "__________________________________________________________________________________________________\n",
      "dense_2 (Dense)                 (None, 64)           2112        dense_1[0][0]                    \n",
      "__________________________________________________________________________________________________\n",
      "dense_3 (Dense)                 (None, 128)          8320        dense_2[0][0]                    \n",
      "__________________________________________________________________________________________________\n",
      "output1 (Dense)                 (None, 1)            129         dense_3[0][0]                    \n",
      "__________________________________________________________________________________________________\n",
      "output2 (Dense)                 (None, 1)            129         dense_3[0][0]                    \n",
      "__________________________________________________________________________________________________\n",
      "output3 (Dense)                 (None, 1)            129         dense_3[0][0]                    \n",
      "==================================================================================================\n",
      "Total params: 11,203\n",
      "Trainable params: 11,203\n",
      "Non-trainable params: 0\n",
      "__________________________________________________________________________________________________\n"
     ]
    }
   ],
   "source": [
    "model = modelHolder.create( observations[0].shape, 0.001 )"
   ]
  },
  {
   "cell_type": "code",
   "execution_count": 11,
   "metadata": {},
   "outputs": [
    {
     "name": "stdout",
     "output_type": "stream",
     "text": [
      "Epoch 1/30\n",
      "13400/13400 [==============================] - 1s 73us/step - loss: 0.2389 - output1_loss: 0.0585 - output2_loss: 0.0827 - output3_loss: 0.0977 - output1_mean_absolute_error: 0.1727 - output2_mean_absolute_error: 0.1973 - output3_mean_absolute_error: 0.2185\n",
      "Epoch 2/30\n",
      "13400/13400 [==============================] - 1s 39us/step - loss: 0.0793 - output1_loss: 0.0217 - output2_loss: 0.0293 - output3_loss: 0.0284 - output1_mean_absolute_error: 0.0988 - output2_mean_absolute_error: 0.1068 - output3_mean_absolute_error: 0.1051\n",
      "Epoch 3/30\n",
      "13400/13400 [==============================] - 1s 39us/step - loss: 0.0605 - output1_loss: 0.0160 - output2_loss: 0.0215 - output3_loss: 0.0229 - output1_mean_absolute_error: 0.0829 - output2_mean_absolute_error: 0.0860 - output3_mean_absolute_error: 0.0939\n",
      "Epoch 4/30\n",
      "13400/13400 [==============================] - 1s 38us/step - loss: 0.0505 - output1_loss: 0.0131 - output2_loss: 0.0182 - output3_loss: 0.0193 - output1_mean_absolute_error: 0.0727 - output2_mean_absolute_error: 0.0768 - output3_mean_absolute_error: 0.0843\n",
      "Epoch 5/30\n",
      "13400/13400 [==============================] - 1s 40us/step - loss: 0.0455 - output1_loss: 0.0119 - output2_loss: 0.0164 - output3_loss: 0.0172 - output1_mean_absolute_error: 0.0695 - output2_mean_absolute_error: 0.0704 - output3_mean_absolute_error: 0.0776\n",
      "Epoch 6/30\n",
      "13400/13400 [==============================] - 1s 41us/step - loss: 0.0407 - output1_loss: 0.0107 - output2_loss: 0.0149 - output3_loss: 0.0151 - output1_mean_absolute_error: 0.0645 - output2_mean_absolute_error: 0.0673 - output3_mean_absolute_error: 0.0732\n",
      "Epoch 7/30\n",
      "13400/13400 [==============================] - 1s 38us/step - loss: 0.0367 - output1_loss: 0.0097 - output2_loss: 0.0138 - output3_loss: 0.0132 - output1_mean_absolute_error: 0.0615 - output2_mean_absolute_error: 0.0635 - output3_mean_absolute_error: 0.0690\n",
      "Epoch 8/30\n",
      "13400/13400 [==============================] - 0s 37us/step - loss: 0.0339 - output1_loss: 0.0089 - output2_loss: 0.0130 - output3_loss: 0.0120 - output1_mean_absolute_error: 0.0572 - output2_mean_absolute_error: 0.0624 - output3_mean_absolute_error: 0.0656\n",
      "Epoch 9/30\n",
      "13400/13400 [==============================] - 1s 37us/step - loss: 0.0316 - output1_loss: 0.0085 - output2_loss: 0.0121 - output3_loss: 0.0110 - output1_mean_absolute_error: 0.0557 - output2_mean_absolute_error: 0.0594 - output3_mean_absolute_error: 0.0636\n",
      "Epoch 10/30\n",
      "13400/13400 [==============================] - 0s 36us/step - loss: 0.0290 - output1_loss: 0.0079 - output2_loss: 0.0115 - output3_loss: 0.0096 - output1_mean_absolute_error: 0.0532 - output2_mean_absolute_error: 0.0595 - output3_mean_absolute_error: 0.0586\n",
      "Epoch 11/30\n",
      "13400/13400 [==============================] - 1s 38us/step - loss: 0.0275 - output1_loss: 0.0076 - output2_loss: 0.0108 - output3_loss: 0.0091 - output1_mean_absolute_error: 0.0526 - output2_mean_absolute_error: 0.0578 - output3_mean_absolute_error: 0.0586\n",
      "Epoch 12/30\n",
      "13400/13400 [==============================] - 1s 39us/step - loss: 0.0251 - output1_loss: 0.0071 - output2_loss: 0.0095 - output3_loss: 0.0085 - output1_mean_absolute_error: 0.0508 - output2_mean_absolute_error: 0.0540 - output3_mean_absolute_error: 0.0580\n",
      "Epoch 13/30\n",
      "13400/13400 [==============================] - 1s 38us/step - loss: 0.0237 - output1_loss: 0.0069 - output2_loss: 0.0090 - output3_loss: 0.0078 - output1_mean_absolute_error: 0.0501 - output2_mean_absolute_error: 0.0532 - output3_mean_absolute_error: 0.0542\n",
      "Epoch 14/30\n",
      "13400/13400 [==============================] - 0s 37us/step - loss: 0.0228 - output1_loss: 0.0067 - output2_loss: 0.0087 - output3_loss: 0.0074 - output1_mean_absolute_error: 0.0488 - output2_mean_absolute_error: 0.0524 - output3_mean_absolute_error: 0.0525\n",
      "Epoch 15/30\n",
      "13400/13400 [==============================] - 1s 38us/step - loss: 0.0212 - output1_loss: 0.0062 - output2_loss: 0.0080 - output3_loss: 0.0070 - output1_mean_absolute_error: 0.0468 - output2_mean_absolute_error: 0.0512 - output3_mean_absolute_error: 0.0522\n",
      "Epoch 16/30\n",
      "13400/13400 [==============================] - 1s 38us/step - loss: 0.0203 - output1_loss: 0.0059 - output2_loss: 0.0078 - output3_loss: 0.0066 - output1_mean_absolute_error: 0.0452 - output2_mean_absolute_error: 0.0518 - output3_mean_absolute_error: 0.0505\n",
      "Epoch 17/30\n",
      "13400/13400 [==============================] - 0s 37us/step - loss: 0.0194 - output1_loss: 0.0056 - output2_loss: 0.0073 - output3_loss: 0.0064 - output1_mean_absolute_error: 0.0439 - output2_mean_absolute_error: 0.0496 - output3_mean_absolute_error: 0.0498\n",
      "Epoch 18/30\n",
      "13400/13400 [==============================] - 1s 37us/step - loss: 0.0190 - output1_loss: 0.0057 - output2_loss: 0.0072 - output3_loss: 0.0061 - output1_mean_absolute_error: 0.0452 - output2_mean_absolute_error: 0.0490 - output3_mean_absolute_error: 0.0479\n",
      "Epoch 19/30\n",
      "13400/13400 [==============================] - 0s 37us/step - loss: 0.0181 - output1_loss: 0.0054 - output2_loss: 0.0068 - output3_loss: 0.0059 - output1_mean_absolute_error: 0.0436 - output2_mean_absolute_error: 0.0478 - output3_mean_absolute_error: 0.0479\n",
      "Epoch 20/30\n",
      "13400/13400 [==============================] - 0s 37us/step - loss: 0.0174 - output1_loss: 0.0052 - output2_loss: 0.0064 - output3_loss: 0.0058 - output1_mean_absolute_error: 0.0438 - output2_mean_absolute_error: 0.0463 - output3_mean_absolute_error: 0.0470\n",
      "Epoch 21/30\n",
      "13400/13400 [==============================] - 1s 38us/step - loss: 0.0165 - output1_loss: 0.0051 - output2_loss: 0.0061 - output3_loss: 0.0053 - output1_mean_absolute_error: 0.0428 - output2_mean_absolute_error: 0.0454 - output3_mean_absolute_error: 0.0444\n",
      "Epoch 22/30\n",
      "13400/13400 [==============================] - 1s 38us/step - loss: 0.0158 - output1_loss: 0.0047 - output2_loss: 0.0060 - output3_loss: 0.0051 - output1_mean_absolute_error: 0.0403 - output2_mean_absolute_error: 0.0460 - output3_mean_absolute_error: 0.0452\n",
      "Epoch 23/30\n",
      "13400/13400 [==============================] - 1s 38us/step - loss: 0.0153 - output1_loss: 0.0047 - output2_loss: 0.0058 - output3_loss: 0.0048 - output1_mean_absolute_error: 0.0412 - output2_mean_absolute_error: 0.0452 - output3_mean_absolute_error: 0.0429\n",
      "Epoch 24/30\n",
      "13400/13400 [==============================] - 1s 38us/step - loss: 0.0145 - output1_loss: 0.0044 - output2_loss: 0.0055 - output3_loss: 0.0047 - output1_mean_absolute_error: 0.0399 - output2_mean_absolute_error: 0.0438 - output3_mean_absolute_error: 0.0427\n",
      "Epoch 25/30\n",
      "13400/13400 [==============================] - 1s 39us/step - loss: 0.0146 - output1_loss: 0.0046 - output2_loss: 0.0053 - output3_loss: 0.0047 - output1_mean_absolute_error: 0.0411 - output2_mean_absolute_error: 0.0422 - output3_mean_absolute_error: 0.0422\n",
      "Epoch 26/30\n",
      "13400/13400 [==============================] - 0s 37us/step - loss: 0.0138 - output1_loss: 0.0043 - output2_loss: 0.0051 - output3_loss: 0.0045 - output1_mean_absolute_error: 0.0392 - output2_mean_absolute_error: 0.0424 - output3_mean_absolute_error: 0.0422\n",
      "Epoch 27/30\n",
      "13400/13400 [==============================] - 1s 38us/step - loss: 0.0137 - output1_loss: 0.0041 - output2_loss: 0.0051 - output3_loss: 0.0045 - output1_mean_absolute_error: 0.0383 - output2_mean_absolute_error: 0.0422 - output3_mean_absolute_error: 0.0415\n",
      "Epoch 28/30\n",
      "13400/13400 [==============================] - 0s 35us/step - loss: 0.0131 - output1_loss: 0.0041 - output2_loss: 0.0048 - output3_loss: 0.0042 - output1_mean_absolute_error: 0.0382 - output2_mean_absolute_error: 0.0411 - output3_mean_absolute_error: 0.0406\n",
      "Epoch 29/30\n",
      "13400/13400 [==============================] - 0s 35us/step - loss: 0.0127 - output1_loss: 0.0039 - output2_loss: 0.0046 - output3_loss: 0.0042 - output1_mean_absolute_error: 0.0377 - output2_mean_absolute_error: 0.0400 - output3_mean_absolute_error: 0.0402\n",
      "Epoch 30/30\n",
      "13400/13400 [==============================] - 0s 35us/step - loss: 0.0124 - output1_loss: 0.0040 - output2_loss: 0.0045 - output3_loss: 0.0039 - output1_mean_absolute_error: 0.0386 - output2_mean_absolute_error: 0.0398 - output3_mean_absolute_error: 0.0390\n"
     ]
    }
   ],
   "source": [
    "history = model.fit( trainX, [l1, l2, l3], epochs=30, batch_size=100)"
   ]
  },
  {
   "cell_type": "code",
   "execution_count": 12,
   "metadata": {},
   "outputs": [
    {
     "data": {
      "text/plain": [
       "dict_keys(['loss', 'output1_loss', 'output2_loss', 'output3_loss', 'output1_mean_absolute_error', 'output2_mean_absolute_error', 'output3_mean_absolute_error'])"
      ]
     },
     "execution_count": 12,
     "metadata": {},
     "output_type": "execute_result"
    }
   ],
   "source": [
    "history.history.keys()"
   ]
  },
  {
   "cell_type": "code",
   "execution_count": 14,
   "metadata": {},
   "outputs": [
    {
     "name": "stdout",
     "output_type": "stream",
     "text": [
      "6600/6600 [==============================] - 0s 42us/step\n"
     ]
    }
   ],
   "source": [
    "evals = model.evaluate( testX, [testY[:,:,0], testY[:,:,1], testY[:,:,2]] )"
   ]
  },
  {
   "cell_type": "code",
   "execution_count": 21,
   "metadata": {},
   "outputs": [
    {
     "data": {
      "text/plain": [
       "7"
      ]
     },
     "execution_count": 21,
     "metadata": {},
     "output_type": "execute_result"
    }
   ],
   "source": [
    "len(evals)"
   ]
  },
  {
   "cell_type": "code",
   "execution_count": 22,
   "metadata": {},
   "outputs": [
    {
     "data": {
      "text/plain": [
       "[0.012619796228228194,\n",
       " 0.0030069758402444706,\n",
       " 0.002926238689811505,\n",
       " 0.006686581707926411,\n",
       " 0.031059587094368356,\n",
       " 0.030091681541367012,\n",
       " 0.06522614572987412]"
      ]
     },
     "execution_count": 22,
     "metadata": {},
     "output_type": "execute_result"
    }
   ],
   "source": [
    "evals"
   ]
  },
  {
   "cell_type": "code",
   "execution_count": 23,
   "metadata": {},
   "outputs": [
    {
     "data": {
      "text/plain": [
       "(6600, 11)"
      ]
     },
     "execution_count": 23,
     "metadata": {},
     "output_type": "execute_result"
    }
   ],
   "source": [
    "testX.shape"
   ]
  },
  {
   "cell_type": "code",
   "execution_count": null,
   "metadata": {},
   "outputs": [],
   "source": [
    "loss, output1_loss, output2_loss, output3_loss, output1_mean_absolute_error, output2_mean_absolute_error, output3_mean_absolute_error = "
   ]
  }
 ],
 "metadata": {
  "kernelspec": {
   "display_name": "Python 3",
   "language": "python",
   "name": "python3"
  },
  "language_info": {
   "codemirror_mode": {
    "name": "ipython",
    "version": 3
   },
   "file_extension": ".py",
   "mimetype": "text/x-python",
   "name": "python",
   "nbconvert_exporter": "python",
   "pygments_lexer": "ipython3",
   "version": "3.6.6"
  }
 },
 "nbformat": 4,
 "nbformat_minor": 2
}
