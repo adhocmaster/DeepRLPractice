{
 "cells": [
  {
   "cell_type": "code",
   "execution_count": 1,
   "metadata": {},
   "outputs": [
    {
     "name": "stderr",
     "output_type": "stream",
     "text": [
      "Using TensorFlow backend.\n"
     ]
    }
   ],
   "source": [
    "from keras import models\n",
    "from keras import layers\n",
    "from keras import optimizers\n",
    "from keras import losses\n",
    "from keras import activations\n",
    "from keras import metrics\n",
    "from keras import regularizers"
   ]
  },
  {
   "cell_type": "code",
   "execution_count": null,
   "metadata": {},
   "outputs": [],
   "source": [
    "class ModelFactory:\n",
    "    \n",
    "    def __init__( self, inputShapeTuple = ( 28, 28, 1 ) ):\n",
    "    \n",
    "        self.numberOfAvailableModels = 11\n",
    "        self.input_shape = inputShapeTuple\n",
    "        pass\n",
    "    \n",
    "    def getModel(self, modelNo, learningRate = 0.001 ):\n",
    "        \n",
    "        if modelNo == 1:\n",
    "            #model 1\n",
    "            model = models.Sequential()\n",
    "            model.add( layers.Conv2D( 16, (3,3), activation = activations.relu, input_shape = self.input_shape )\n",
    "            model.add( layers.MaxPooling2D( (2,2) ) )\n",
    "            model.add( layers.Conv2D( 32, (3,3), activation = activations.relu ))\n",
    "            model.add( layers.MaxPooling2D( (2,2) ) )\n",
    "            model.add( layers.Conv2D( 32, (3,3), activation = activations.relu ))\n",
    "            model.add( layers.Flatten() )\n",
    "            model.add( layers.Dense( 32, activation = activations.relu ) )\n",
    "            model.add( layers.Dense( self.outputShape, activation = activations.softmax ) )\n",
    "            model.summary()\n",
    "            model.compile( \n",
    "                optimizer = optimizers.rmsprop( lr = learningRate ), \n",
    "                loss = losses.categorical_crossentropy,\n",
    "                metrics = [ metrics.categorical_accuracy ] \n",
    "            )\n",
    "        \n",
    "            model.name = \"basic CNN, 32\"\n",
    "            return model"
   ]
  }
 ],
 "metadata": {
  "kernelspec": {
   "display_name": "Python 3",
   "language": "python",
   "name": "python3"
  },
  "language_info": {
   "codemirror_mode": {
    "name": "ipython",
    "version": 3
   },
   "file_extension": ".py",
   "mimetype": "text/x-python",
   "name": "python",
   "nbconvert_exporter": "python",
   "pygments_lexer": "ipython3",
   "version": "3.6.6"
  }
 },
 "nbformat": 4,
 "nbformat_minor": 2
}
