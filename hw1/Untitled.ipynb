{
 "cells": [
  {
   "cell_type": "code",
   "execution_count": 33,
   "metadata": {},
   "outputs": [],
   "source": [
    "import pickle\n",
    "import numpy as np\n",
    "import keras\n",
    "import statistics as stats"
   ]
  },
  {
   "cell_type": "code",
   "execution_count": 2,
   "metadata": {},
   "outputs": [],
   "source": [
    "file = \"expert_data/Hopper-v2.pkl\""
   ]
  },
  {
   "cell_type": "code",
   "execution_count": 3,
   "metadata": {},
   "outputs": [],
   "source": [
    "objects = []\n",
    "with (open(file, \"rb\")) as openfile:\n",
    "    while True:\n",
    "        try:\n",
    "            objects.append(pickle.load(openfile))\n",
    "        except EOFError:\n",
    "            break"
   ]
  },
  {
   "cell_type": "code",
   "execution_count": 4,
   "metadata": {},
   "outputs": [
    {
     "data": {
      "text/plain": [
       "[{'observations': array([[ 1.25229861e+00, -3.18844902e-03,  3.52164833e-03, ...,\n",
       "           8.49640448e-04, -4.95543739e-03, -3.89241199e-03],\n",
       "         [ 1.25187361e+00, -3.25192457e-03,  3.31234071e-03, ...,\n",
       "          -4.62423287e-02, -1.71163858e-02,  1.44455960e+00],\n",
       "         [ 1.25058115e+00, -3.19879368e-03,  2.87119787e-03, ...,\n",
       "          -6.06687417e-02, -2.07607846e-02,  2.88133999e+00],\n",
       "         ...,\n",
       "         [ 1.57104038e+00, -2.70470611e-02, -7.64099305e-02, ...,\n",
       "          -1.02577234e+00,  3.00935329e+00,  6.62987310e+00],\n",
       "         [ 1.57979881e+00, -2.36314303e-02, -8.25748254e-02, ...,\n",
       "          -5.16503466e-01,  2.37480571e+00,  5.97890744e+00],\n",
       "         [ 1.58769349e+00, -1.95297167e-02, -8.46352196e-02, ...,\n",
       "           4.27895406e-04,  1.69780628e+00,  5.52297073e+00]]),\n",
       "  'actions': array([[[ 0.02608132,  2.138234  ,  1.8916897 ]],\n",
       "  \n",
       "         [[ 0.06066349,  1.9349298 ,  1.7981125 ]],\n",
       "  \n",
       "         [[ 0.08049232,  1.6863072 ,  1.7177788 ]],\n",
       "  \n",
       "         ...,\n",
       "  \n",
       "         [[ 0.29009774, -0.47937557, -0.4209496 ]],\n",
       "  \n",
       "         [[ 0.29810166, -0.50598896, -0.29180768]],\n",
       "  \n",
       "         [[ 0.24288116, -0.5093826 , -0.1440545 ]]], dtype=float32)}]"
      ]
     },
     "execution_count": 4,
     "metadata": {},
     "output_type": "execute_result"
    }
   ],
   "source": [
    "objects"
   ]
  },
  {
   "cell_type": "code",
   "execution_count": 16,
   "metadata": {},
   "outputs": [
    {
     "name": "stdout",
     "output_type": "stream",
     "text": [
      "(0, 11)\n",
      "(0, 1, 3)\n"
     ]
    }
   ],
   "source": [
    "dataset = objects[0]\n",
    "oShape = list( dataset['observations'].shape )\n",
    "oShape[0] = 0\n",
    "oShape = tuple(oShape)\n",
    "aShape = list( dataset['actions'].shape )\n",
    "aShape[0] = 0\n",
    "aShape = tuple(aShape)\n",
    "\n",
    "print(oShape)\n",
    "print(aShape)\n"
   ]
  },
  {
   "cell_type": "code",
   "execution_count": 17,
   "metadata": {},
   "outputs": [],
   "source": [
    "observations = np.empty(oShape)\n",
    "actions = np.empty(aShape)\n",
    "for dataset in objects:\n",
    "    observations = np.vstack( ( observations, dataset['observations'] ) )\n",
    "    actions = np.vstack( ( actions, dataset['actions'] ) )\n",
    "#flatten\n"
   ]
  },
  {
   "cell_type": "code",
   "execution_count": 18,
   "metadata": {},
   "outputs": [
    {
     "data": {
      "text/plain": [
       "numpy.ndarray"
      ]
     },
     "execution_count": 18,
     "metadata": {},
     "output_type": "execute_result"
    }
   ],
   "source": [
    "\n",
    "type(observations)\n"
   ]
  },
  {
   "cell_type": "code",
   "execution_count": 19,
   "metadata": {},
   "outputs": [
    {
     "data": {
      "text/plain": [
       "(20000, 11)"
      ]
     },
     "execution_count": 19,
     "metadata": {},
     "output_type": "execute_result"
    }
   ],
   "source": [
    "observations.shape"
   ]
  },
  {
   "cell_type": "code",
   "execution_count": 22,
   "metadata": {},
   "outputs": [
    {
     "data": {
      "text/plain": [
       "(20000, 1, 3)"
      ]
     },
     "execution_count": 22,
     "metadata": {},
     "output_type": "execute_result"
    }
   ],
   "source": [
    "actions.shape"
   ]
  },
  {
   "cell_type": "code",
   "execution_count": 23,
   "metadata": {},
   "outputs": [
    {
     "data": {
      "text/plain": [
       "tuple"
      ]
     },
     "execution_count": 23,
     "metadata": {},
     "output_type": "execute_result"
    }
   ],
   "source": [
    "type( dataset['observations'].shape )"
   ]
  },
  {
   "cell_type": "code",
   "execution_count": 24,
   "metadata": {},
   "outputs": [
    {
     "data": {
      "text/plain": [
       "array([ 1.25058115e+00, -3.19879368e-03,  2.87119787e-03,  4.11372714e-03,\n",
       "        1.91710943e-02,  5.24538455e-02, -2.15776297e-01,  2.16130659e-02,\n",
       "       -6.06687417e-02, -2.07607846e-02,  2.88133999e+00])"
      ]
     },
     "execution_count": 24,
     "metadata": {},
     "output_type": "execute_result"
    }
   ],
   "source": [
    "observations[2]"
   ]
  },
  {
   "cell_type": "code",
   "execution_count": 26,
   "metadata": {},
   "outputs": [
    {
     "data": {
      "text/plain": [
       "array([[ 3.97052590e-01, -1.01559928e-03,  9.11589422e-04,\n",
       "         1.30608558e-03,  6.08671626e-03,  1.66538054e-02,\n",
       "        -6.85077791e-02,  6.86202871e-03, -1.92619895e-02,\n",
       "        -6.59143413e-03,  9.14809489e-01]])"
      ]
     },
     "execution_count": 26,
     "metadata": {},
     "output_type": "execute_result"
    }
   ],
   "source": [
    "keras.utils.normalize( observations[2])"
   ]
  },
  {
   "cell_type": "code",
   "execution_count": 27,
   "metadata": {},
   "outputs": [],
   "source": [
    "norOb = keras.utils.normalize( observations, axis=1 )"
   ]
  },
  {
   "cell_type": "code",
   "execution_count": 28,
   "metadata": {},
   "outputs": [
    {
     "data": {
      "text/plain": [
       "array([ 0.65359665, -0.00169781,  0.00172936,  0.00222894,  0.00097102,\n",
       "        0.0132227 , -0.05603891, -0.00293085, -0.02414288, -0.00893638,\n",
       "        0.754197  ])"
      ]
     },
     "execution_count": 28,
     "metadata": {},
     "output_type": "execute_result"
    }
   ],
   "source": [
    "norOb[1]"
   ]
  },
  {
   "cell_type": "code",
   "execution_count": 34,
   "metadata": {},
   "outputs": [
    {
     "data": {
      "text/plain": [
       "-0.001290744519199369"
      ]
     },
     "execution_count": 34,
     "metadata": {},
     "output_type": "execute_result"
    }
   ],
   "source": [
    "stats.mean( norOb[:,1])"
   ]
  },
  {
   "cell_type": "code",
   "execution_count": 35,
   "metadata": {},
   "outputs": [
    {
     "data": {
      "text/plain": [
       "0.12110898577036541"
      ]
     },
     "execution_count": 35,
     "metadata": {},
     "output_type": "execute_result"
    }
   ],
   "source": [
    "stats.mean( norOb[1])"
   ]
  },
  {
   "cell_type": "code",
   "execution_count": 36,
   "metadata": {},
   "outputs": [
    {
     "data": {
      "text/plain": [
       "(20000,)"
      ]
     },
     "execution_count": 36,
     "metadata": {},
     "output_type": "execute_result"
    }
   ],
   "source": [
    "norOb[:,1].shape"
   ]
  },
  {
   "cell_type": "code",
   "execution_count": 38,
   "metadata": {},
   "outputs": [
    {
     "data": {
      "text/plain": [
       "2"
      ]
     },
     "execution_count": 38,
     "metadata": {},
     "output_type": "execute_result"
    }
   ],
   "source": [
    "observations.ndim"
   ]
  },
  {
   "cell_type": "code",
   "execution_count": 39,
   "metadata": {},
   "outputs": [
    {
     "data": {
      "text/plain": [
       "3"
      ]
     },
     "execution_count": 39,
     "metadata": {},
     "output_type": "execute_result"
    }
   ],
   "source": [
    "actions.ndim"
   ]
  },
  {
   "cell_type": "code",
   "execution_count": 42,
   "metadata": {},
   "outputs": [],
   "source": [
    "actions2 = keras.utils.normalize( actions, axis = actions.ndim - 1 )"
   ]
  },
  {
   "cell_type": "code",
   "execution_count": null,
   "metadata": {},
   "outputs": [],
   "source": []
  }
 ],
 "metadata": {
  "kernelspec": {
   "display_name": "Python 3",
   "language": "python",
   "name": "python3"
  },
  "language_info": {
   "codemirror_mode": {
    "name": "ipython",
    "version": 3
   },
   "file_extension": ".py",
   "mimetype": "text/x-python",
   "name": "python",
   "nbconvert_exporter": "python",
   "pygments_lexer": "ipython3",
   "version": "3.6.6"
  }
 },
 "nbformat": 4,
 "nbformat_minor": 2
}
