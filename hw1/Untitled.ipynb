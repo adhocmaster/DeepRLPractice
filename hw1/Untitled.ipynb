{
 "cells": [
  {
   "cell_type": "code",
   "execution_count": 1,
   "metadata": {},
   "outputs": [],
   "source": [
    "import pickle"
   ]
  },
  {
   "cell_type": "code",
   "execution_count": 5,
   "metadata": {},
   "outputs": [],
   "source": [
    "file = \"expert_data/Hopper-v2.pkl\""
   ]
  },
  {
   "cell_type": "code",
   "execution_count": 6,
   "metadata": {},
   "outputs": [],
   "source": [
    "objects = []\n",
    "with (open(file, \"rb\")) as openfile:\n",
    "    while True:\n",
    "        try:\n",
    "            objects.append(pickle.load(openfile))\n",
    "        except EOFError:\n",
    "            break"
   ]
  },
  {
   "cell_type": "code",
   "execution_count": 7,
   "metadata": {},
   "outputs": [
    {
     "data": {
      "text/plain": [
       "[{'observations': array([[ 1.25229861e+00, -3.18844902e-03,  3.52164833e-03, ...,\n",
       "           8.49640448e-04, -4.95543739e-03, -3.89241199e-03],\n",
       "         [ 1.25187361e+00, -3.25192457e-03,  3.31234071e-03, ...,\n",
       "          -4.62423287e-02, -1.71163858e-02,  1.44455960e+00],\n",
       "         [ 1.25058115e+00, -3.19879368e-03,  2.87119787e-03, ...,\n",
       "          -6.06687417e-02, -2.07607846e-02,  2.88133999e+00],\n",
       "         ...,\n",
       "         [ 1.57104038e+00, -2.70470611e-02, -7.64099305e-02, ...,\n",
       "          -1.02577234e+00,  3.00935329e+00,  6.62987310e+00],\n",
       "         [ 1.57979881e+00, -2.36314303e-02, -8.25748254e-02, ...,\n",
       "          -5.16503466e-01,  2.37480571e+00,  5.97890744e+00],\n",
       "         [ 1.58769349e+00, -1.95297167e-02, -8.46352196e-02, ...,\n",
       "           4.27895406e-04,  1.69780628e+00,  5.52297073e+00]]),\n",
       "  'actions': array([[[ 0.02608132,  2.138234  ,  1.8916897 ]],\n",
       "  \n",
       "         [[ 0.06066349,  1.9349298 ,  1.7981125 ]],\n",
       "  \n",
       "         [[ 0.08049232,  1.6863072 ,  1.7177788 ]],\n",
       "  \n",
       "         ...,\n",
       "  \n",
       "         [[ 0.29009774, -0.47937557, -0.4209496 ]],\n",
       "  \n",
       "         [[ 0.29810166, -0.50598896, -0.29180768]],\n",
       "  \n",
       "         [[ 0.24288116, -0.5093826 , -0.1440545 ]]], dtype=float32)}]"
      ]
     },
     "execution_count": 7,
     "metadata": {},
     "output_type": "execute_result"
    }
   ],
   "source": [
    "objects"
   ]
  },
  {
   "cell_type": "code",
   "execution_count": 15,
   "metadata": {},
   "outputs": [],
   "source": [
    "observations = objects[0]['observations']\n",
    "actions = objects[0]['actions']"
   ]
  },
  {
   "cell_type": "code",
   "execution_count": 17,
   "metadata": {},
   "outputs": [
    {
     "data": {
      "text/plain": [
       "(20000, 11)"
      ]
     },
     "execution_count": 17,
     "metadata": {},
     "output_type": "execute_result"
    }
   ],
   "source": [
    "observations.shape\n"
   ]
  },
  {
   "cell_type": "code",
   "execution_count": 18,
   "metadata": {},
   "outputs": [
    {
     "data": {
      "text/plain": [
       "(20000, 1, 3)"
      ]
     },
     "execution_count": 18,
     "metadata": {},
     "output_type": "execute_result"
    }
   ],
   "source": [
    "actions.shape"
   ]
  },
  {
   "cell_type": "code",
   "execution_count": 19,
   "metadata": {},
   "outputs": [
    {
     "data": {
      "text/plain": [
       "array([ 1.25229861e+00, -3.18844902e-03,  3.52164833e-03,  4.36515713e-03,\n",
       "       -3.91071298e-03,  1.06249912e-04,  1.07338108e-03, -3.72655315e-03,\n",
       "        8.49640448e-04, -4.95543739e-03, -3.89241199e-03])"
      ]
     },
     "execution_count": 19,
     "metadata": {},
     "output_type": "execute_result"
    }
   ],
   "source": [
    "observations[0]"
   ]
  },
  {
   "cell_type": "code",
   "execution_count": 20,
   "metadata": {},
   "outputs": [
    {
     "data": {
      "text/plain": [
       "numpy.ndarray"
      ]
     },
     "execution_count": 20,
     "metadata": {},
     "output_type": "execute_result"
    }
   ],
   "source": [
    "type(observations)"
   ]
  },
  {
   "cell_type": "code",
   "execution_count": null,
   "metadata": {},
   "outputs": [],
   "source": []
  }
 ],
 "metadata": {
  "kernelspec": {
   "display_name": "Python 3",
   "language": "python",
   "name": "python3"
  },
  "language_info": {
   "codemirror_mode": {
    "name": "ipython",
    "version": 3
   },
   "file_extension": ".py",
   "mimetype": "text/x-python",
   "name": "python",
   "nbconvert_exporter": "python",
   "pygments_lexer": "ipython3",
   "version": "3.6.6"
  }
 },
 "nbformat": 4,
 "nbformat_minor": 2
}
