{
 "cells": [
  {
   "cell_type": "code",
   "execution_count": null,
   "metadata": {},
   "outputs": [],
   "source": [
    "from keras import models\n",
    "from keras import layers\n",
    "from keras import optimizers\n",
    "from keras import losses\n",
    "from keras import activations\n",
    "from keras import metrics\n",
    "from keras import regularizers"
   ]
  },
  {
   "cell_type": "code",
   "execution_count": null,
   "metadata": {},
   "outputs": [],
   "source": [
    "class Model1:\n",
    "    def create( self, inputShape, learningRate ):\n",
    "        \n",
    "        model_input = layers.Input( shape = inputShape )\n",
    "        \n",
    "        x = model.add( layers.Dense( 32, activation = activations.relu, input_shape = inputShape ) )(model_input)\n",
    "        x = layers.Dense( 64, activation = activations.relu )(x)\n",
    "        x = layers.Dense( 128, activation = activations.relu )(x)\n",
    "        \n",
    "        o1 = layers.Dense(1)(x)\n",
    "        o2 = layers.Dense(1)(x)\n",
    "        o3 = layers.Dense(1)(x)\n",
    "        \n",
    "        model = models.Model( model_input, [ o1, o2, o3 ] )\n",
    "        model.summary()\n",
    "        model.compile( \n",
    "            optimizer = optimizers.rmsprop( lr = learningRate ), \n",
    "            loss = losses.mse,\n",
    "            metrics = [ metrics.mae, metrics.acc ] \n",
    "        )\n",
    "\n",
    "        model.name = \"32-64-128 multi task\"\n",
    "        return model\n",
    "    "
   ]
  }
 ],
 "metadata": {
  "kernelspec": {
   "display_name": "Python 3",
   "language": "python",
   "name": "python3"
  },
  "language_info": {
   "codemirror_mode": {
    "name": "ipython",
    "version": 3
   },
   "file_extension": ".py",
   "mimetype": "text/x-python",
   "name": "python",
   "nbconvert_exporter": "python",
   "pygments_lexer": "ipython3",
   "version": "3.6.6"
  }
 },
 "nbformat": 4,
 "nbformat_minor": 2
}
