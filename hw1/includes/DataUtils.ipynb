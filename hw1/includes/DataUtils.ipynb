{
 "cells": [
  {
   "cell_type": "code",
   "execution_count": 2,
   "metadata": {},
   "outputs": [],
   "source": [
    "import numpy as np\n",
    "import glob\n",
    "import math\n",
    "import pickle\n",
    "from sklearn.model_selection import train_test_split\n",
    "\n",
    "class DataUtils:\n",
    "    \n",
    "    def __init__( self, inputDir ):\n",
    "        self.inputDir = inputDir\n",
    "        self.files = glob.glob( inputDir )\n",
    "\n",
    "        pass\n",
    "        "
   ]
  },
  {
   "cell_type": "code",
   "execution_count": null,
   "metadata": {},
   "outputs": [],
   "source": [
    "        \n",
    "    def processMujocoExpertData():\n",
    "        objects = []\n",
    "        with (open(file, \"rb\")) as openfile:\n",
    "            while True:\n",
    "                try:\n",
    "                    objects.append(pickle.load(openfile))\n",
    "                except EOFError:\n",
    "                    break\n",
    "        \n",
    "       for dataset in objects:"
   ]
  }
 ],
 "metadata": {
  "kernelspec": {
   "display_name": "Python 3",
   "language": "python",
   "name": "python3"
  },
  "language_info": {
   "codemirror_mode": {
    "name": "ipython",
    "version": 3
   },
   "file_extension": ".py",
   "mimetype": "text/x-python",
   "name": "python",
   "nbconvert_exporter": "python",
   "pygments_lexer": "ipython3",
   "version": "3.6.6"
  }
 },
 "nbformat": 4,
 "nbformat_minor": 2
}
